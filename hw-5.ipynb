{
 "cells": [
  {
   "cell_type": "code",
   "execution_count": 5,
   "metadata": {},
   "outputs": [],
   "source": [
    "import numpy as np #importing libraries\n",
    "import matplotlib.pyplot as plt\n",
    "%matplotlib inline"
   ]
  },
  {
   "cell_type": "code",
   "execution_count": 6,
   "metadata": {},
   "outputs": [],
   "source": [
    "def function(x): #creating a function to define our equation\n",
    "    a = 2\n",
    "    b = 10\n",
    "    return np.exp(-a*x)*np.cos(b*x)"
   ]
  },
  {
   "cell_type": "code",
   "execution_count": 7,
   "metadata": {},
   "outputs": [],
   "source": [
    "def integral(x): #creating a new function based off of the known integral form of the old function\n",
    "    a = 2\n",
    "    b = 10\n",
    "    return (np.exp(-a*x)*(5*np.sin(b*x)-np.cos(b*x)))/52"
   ]
  },
  {
   "cell_type": "code",
   "execution_count": 8,
   "metadata": {},
   "outputs": [],
   "source": [
    "def trap_core(f, x, n): #trapezoid core function equation\n",
    "    return 0.5*n*(f(x+n) + f(x))"
   ]
  },
  {
   "cell_type": "code",
   "execution_count": 9,
   "metadata": {},
   "outputs": [],
   "source": [
    "def trap_method(f,a,b,c): #trapezoid formula\n",
    "    x = np.linspace(a,b,c) #setting up an area of x values based off of our parameters a and b\n",
    "    n = x[1]-x[0]\n",
    "    \n",
    "    \n",
    "    Find = 0.0 #integral value placeholder\n",
    "    \n",
    "    for i in range(0,len(x)-1,1): #iterating through the integral function (trap_core) and settings Find's value to its\n",
    "        Find += trap_core(f, x[i],n)\n",
    "        \n",
    "    return Find"
   ]
  },
  {
   "cell_type": "code",
   "execution_count": 10,
   "metadata": {},
   "outputs": [],
   "source": [
    "def simp_core(f,x,h): #simpson's method function equation\n",
    "    return h*( f(x) + 4*f(x+h) + f(x+2*h))/3."
   ]
  },
  {
   "cell_type": "code",
   "execution_count": 11,
   "metadata": {},
   "outputs": [],
   "source": [
    "def simp_method(f,a,b,c): #simpson's method formula\n",
    "    x = np.linspace(a,b,c) #setting up a range of x values\n",
    "    n = x[1]-x[0]\n",
    "    \n",
    "    Find = 0.0 #placeholder integral formula\n",
    "    i = 0 #iteration placeholder\n",
    "    \n",
    "    \n",
    "    for i in range(0, len(x)-2,2): #iterating through the core function and setting the updated values to Find\n",
    "        Find += simp_core(f,x[i],n)\n",
    "        i += 1 #increasing iteration value\n",
    "        \n",
    "    if((c%2)==0): #checking to see if the value of c is even\n",
    "        Find += simp_core(f,x[-2],0.5*n) #applying the integral over the last region we need to check\n",
    "    return Find, i\n",
    "\n"
   ]
  },
  {
   "cell_type": "code",
   "execution_count": 12,
   "metadata": {},
   "outputs": [],
   "source": [
    "def rom_core(f,a,b,i): #main function for fomberg integration\n",
    "    n = b-a #difference between b and a\n",
    "    dn = n/2.**(i) #increment function between iteratable values\n",
    "    H = n/2.**(i+1) #cofactor\n",
    "    S = 0.0 #integral value placeholder\n",
    "    for j in range(2**i): #iterating through function to find closer values\n",
    "        S += f(a + 0.5*dn + j*dn)\n",
    "    return H*S"
   ]
  },
  {
   "cell_type": "code",
   "execution_count": 13,
   "metadata": {},
   "outputs": [],
   "source": [
    "def rom_integration(f,a,b,tol):\n",
    "    i = 0 #iteration variable\n",
    "    imax = 1000 #max iteration number\n",
    "    delta = 100.0*np.fabs(tol) #error estimate\n",
    "    I = np.zeros(imax,dtype=float) #Array of placeholder zeros \n",
    "    I[0] = 0.5*(b-a)*(f(a) + f(b)) #adding to the array possible values \n",
    "    i += 1\n",
    "    \n",
    "    while(delta>tol): #while out of tolerance range\n",
    "        I[i] = 0.5*I[i-1] + rom_core(f,a,b,i) #Finding values for I array based off of iteration number\n",
    "        delta = np.fabs( (I[i]-I[i-1])/I[i]) #augmenting delta to shrink as we get closer to our answer\n",
    "        print(i,I[i], I[i-1], delta)\n",
    "        if(delta>tol): #increasing iteration if still outside tolerance range\n",
    "            i+=1\n",
    "            if(i>imax): #raising an error if max iterations is reached\n",
    "                print(\"Max Iterations Reached\")\n",
    "                raise StopIteration(\"Stopped iterations after: \", i)\n",
    "    return I[i],i\n"
   ]
  },
  {
   "cell_type": "code",
   "execution_count": null,
   "metadata": {},
   "outputs": [],
   "source": [
    "a = 0.0 #first bound\n",
    "b = np.pi #second bound\n",
    "tolerance = 1.0e-6\n",
    "\n",
    "Answer = integral(b) - integral(a) #True Answer\n",
    "print(\"Actual Answer:\", Answer)\n",
    "\n",
    "for c in range(10, 100, 10): #Printing function to show trapezoid method's attempts over multiple iterations\n",
    "    trap_answer = trap_method(function,a,b,c)\n",
    "    error = (trap_answer-Answer)/Answer\n",
    "    print(\"Trapezoid method \", trap_answer, \" Error: \", error)\n",
    "    \n",
    "print(\"Simpsons Method\") #simpson's method call\n",
    "print(simp_method(function,a,b,10))\n",
    "RI = rom_integration(function,a,b,tolerance) #Romberg integration call\n",
    "print(\"Romberg Integration:\")\n",
    "print(RI)"
   ]
  },
  {
   "cell_type": "code",
   "execution_count": null,
   "metadata": {},
   "outputs": [],
   "source": []
  }
 ],
 "metadata": {
  "kernelspec": {
   "display_name": "Python 3",
   "language": "python",
   "name": "python3"
  },
  "language_info": {
   "codemirror_mode": {
    "name": "ipython",
    "version": 3
   },
   "file_extension": ".py",
   "mimetype": "text/x-python",
   "name": "python",
   "nbconvert_exporter": "python",
   "pygments_lexer": "ipython3",
   "version": "3.7.6"
  }
 },
 "nbformat": 4,
 "nbformat_minor": 4
}
